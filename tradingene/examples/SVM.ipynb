{
 "cells": [
  {
   "cell_type": "code",
   "execution_count": null,
   "metadata": {},
   "outputs": [],
   "source": [
    "from datetime import datetime\n",
    "from tradingene.data.load import import_data\n",
    "from tradingene.algorithm_backtest.tng import TNG\n",
    "import tradingene.backtest_statistics.backtest_statistics as bs\n",
    "from sklearn.svm import SVC\n",
    "import numpy as np\n",
    "\n",
    "def prepare_model():\n",
    "    data = import_data(\n",
    "        ticker,\n",
    "        timeframe,\n",
    "        start_train_date,\n",
    "        end_train_date,\n",
    "        calculate_input,\n",
    "        lookback,\n",
    "        calculate_output,\n",
    "        lookforward,\n",
    "        split=(100, 0, 0)\n",
    "    )\n",
    "    model = SVC(tol=1e-4, degree=4)\n",
    "    # Reshaping the inputs to be passed into the \"fit\" function\n",
    "    train_output = np.reshape(data['train_output'], (np.shape(data['train_output'])[0], ))\n",
    "    model.fit(data['train_input'], train_output)\n",
    "    return model\n",
    "# end of load_data\n",
    "\n",
    "\n",
    "def calculate_input(data):\n",
    "    input_vec = np.zeros(num_features)  # A vector to store inputs\n",
    "    for i in range(lookback):\n",
    "        input_vec[i] = 100.0 * (\n",
    "            data['open'][i] - data['close'][0]) / data['close'][0]\n",
    "    return input_vec\n",
    "\n",
    "\n",
    "def calculate_output(data):\n",
    "    if data['close'][lookforward - 1] > data['open'][0] * 1.01:\n",
    "        return 1\n",
    "    elif data['close'][lookforward - 1] * 1.01 < data['open'][0]:\n",
    "        return -1\n",
    "    else:\n",
    "        return 0\n",
    "\n",
    "\n",
    "def onBar(instrument):\n",
    "    inp = calculate_input(\n",
    "        instrument.rates[1:lookback + 1])  # Calculating inputs\n",
    "    prediction = model.predict([inp])[0]  # Making prediction\n",
    "    if prediction > 0:\n",
    "        alg.buy()\n",
    "    elif prediction < 0:\n",
    "        alg.sell()\n",
    "# end of onBar()"
   ]
  },
  {
   "cell_type": "code",
   "execution_count": null,
   "metadata": {},
   "outputs": [],
   "source": [
    "num_features = lookback = 3\n",
    "lookforward = 1  # How far in the future the algorithm \"looks\" and foresees.\n",
    "timeframe = 60 \n",
    "ticker = \"btcusd\"\n",
    "start_train_date = datetime(2018, 2, 25)\n",
    "end_train_date = datetime(2018, 3, 5)\n",
    "end_test_date = datetime(2018, 3, 15)\n",
    "model = prepare_model()  # Creating an ML-model."
   ]
  },
  {
   "cell_type": "code",
   "execution_count": null,
   "metadata": {},
   "outputs": [],
   "source": [
    "alg = TNG(end_train_date, end_test_date)  # Creating an instance of environment to run algorithm in.\n",
    "alg.addInstrument(ticker)  # Adding an instrument.\n",
    "alg.addTimeframe(ticker, timeframe)  # Adding a time frame.\n",
    "alg.run_backtest(onBar)  # Backtesting..."
   ]
  },
  {
   "cell_type": "code",
   "execution_count": null,
   "metadata": {},
   "outputs": [],
   "source": [
    "stat = bs.BacktestStatistics(alg)  # Retrieving statistics of the backtest\n",
    "pnl = stat.calculate_PnL()\n",
    "num_positions = stat.calculate_number_of_trades()\n",
    "print(\"pnl=%f, num_positions=%d\" % (pnl, num_positions))\n",
    "stat.backtest_results()  # Displaying the backtest statistics"
   ]
  }
 ],
 "metadata": {
  "kernelspec": {
   "display_name": "Python 3",
   "language": "python",
   "name": "python3"
  },
  "language_info": {
   "codemirror_mode": {
    "name": "ipython",
    "version": 3
   },
   "file_extension": ".py",
   "mimetype": "text/x-python",
   "name": "python",
   "nbconvert_exporter": "python",
   "pygments_lexer": "ipython3",
   "version": "3.5.3"
  }
 },
 "nbformat": 4,
 "nbformat_minor": 2
}
