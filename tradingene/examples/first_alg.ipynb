{
 "cells": [
  {
   "cell_type": "code",
   "execution_count": null,
   "metadata": {},
   "outputs": [],
   "source": [
    "from datetime import datetime\n",
    "from tradingene.data.load import import_data\n",
    "from tradingene.algorithm_backtest.tng import TNG\n",
    "import tradingene.backtest_statistics.backtest_statistics as bs\n",
    "\n",
    "def onBar(instrument):\n",
    "    bollinger10 = instrument.bollinger(10) \n",
    "    if instrument.close[1] > bollinger10.top[1]: \n",
    "        alg.buy() \n",
    "    elif instrument.close[1] < bollinger10.bottom[1]: \n",
    "        alg.sell()"
   ]
  },
  {
   "cell_type": "code",
   "execution_count": null,
   "metadata": {},
   "outputs": [],
   "source": [
    "start_date = datetime(2018, 1, 1)\n",
    "end_date = datetime(2018, 2, 1)\n",
    "ticker = \"btcusd\"\n",
    "timeframe = 60"
   ]
  },
  {
   "cell_type": "code",
   "execution_count": null,
   "metadata": {},
   "outputs": [],
   "source": [
    "alg = TNG(start_date, end_date) # Creating an instance of the class (TNG)\n",
    "alg.addInstrument(ticker) # Adding an instrument\n",
    "alg.addTimeframe(ticker, timeframe) # Adding a time frame\n",
    "alg.run_backtest(onBar) # Backtesting..."
   ]
  },
  {
   "cell_type": "code",
   "execution_count": null,
   "metadata": {},
   "outputs": [],
   "source": [
    "stat = bs.BacktestStatistics(alg) # Retrieving statistics of the backtest\n",
    "pnl = stat.calculate_PnL()\n",
    "num_positions = stat.calculate_number_of_trades()\n",
    "print(\"pnl=%f, num_positions=%d\" % (pnl, num_positions))\n",
    "stat.backtest_results() # Displaying the backtest statistics"
   ]
  }
 ],
 "metadata": {
  "kernelspec": {
   "display_name": "Python 3",
   "language": "python",
   "name": "python3"
  },
  "language_info": {
   "codemirror_mode": {
    "name": "ipython",
    "version": 3
   },
   "file_extension": ".py",
   "mimetype": "text/x-python",
   "name": "python",
   "nbconvert_exporter": "python",
   "pygments_lexer": "ipython3",
   "version": "3.6.4"
  }
 },
 "nbformat": 4,
 "nbformat_minor": 2
}
