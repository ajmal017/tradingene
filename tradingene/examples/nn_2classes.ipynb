{
 "cells": [
  {
   "cell_type": "code",
   "execution_count": null,
   "metadata": {},
   "outputs": [],
   "source": [
    "from datetime import datetime\n",
    "from tradingene.data.load import import_data\n",
    "from tradingene.algorithm_backtest.tng import TNG\n",
    "import tradingene.backtest_statistics.backtest_statistics as bs\n",
    "from keras.models import Sequential\n",
    "from keras.layers import Dense\n",
    "from keras.initializers import he_uniform\n",
    "import keras\n",
    "import numpy as np\n",
    "\n",
    "\n",
    "def prepare_model():\n",
    "    data = import_data(\n",
    "        ticker,\n",
    "        timeframe,\n",
    "        start_train_date,\n",
    "        end_train_date,\n",
    "        calculate_input,\n",
    "        lookback,\n",
    "        calculate_output,\n",
    "        lookforward,\n",
    "        split=(100, 0, 0)\n",
    "    )\n",
    "    model = Sequential()\n",
    "    model.add(Dense(\n",
    "            units=num_features * 2,\n",
    "            activation='tanh',\n",
    "            input_dim=num_features,\n",
    "            kernel_initializer=he_uniform(1)))\n",
    "    model.add(Dense(num_features * 2, activation='tanh'))\n",
    "    model.add(Dense(num_classes, activation='softmax'))\n",
    "    model.compile(loss='categorical_crossentropy', optimizer='sgd', metrics=['accuracy'])\n",
    "    one_hot_train_outputs = keras.utils.to_categorical(\n",
    "        data['train_output'],\n",
    "        num_classes=num_classes)  # Performing one-hot encoding\n",
    "    model.fit(data['train_input'], one_hot_train_outputs, epochs=num_epochs)\n",
    "    return model\n",
    "# end of load_data\n",
    "\n",
    "\n",
    "def calculate_input(data):\n",
    "    input_vec = np.zeros(num_features)  # A vector to store inputs\n",
    "    for i in range(lookback):\n",
    "        input_vec[i] = np.log(data['open'][i] / data['close'][0])\n",
    "    return np.array([input_vec])\n",
    "\n",
    "\n",
    "def calculate_output(data):\n",
    "    if data['close'][lookforward - 1] > data['open'][0]:\n",
    "        return 1\n",
    "    else:\n",
    "        return 0\n",
    "\n",
    "\n",
    "def onBar(instrument):\n",
    "    inp = calculate_input(instrument.rates[1:lookback + 1])\n",
    "    prediction = model.predict_classes(inp)[0]\n",
    "    if prediction == 1:  # Class \"1\" predicts price to surge up...\n",
    "        alg.buy()\n",
    "    elif prediction == 0:  # Class \"0\" predicts price to fall down...\n",
    "        alg.sell()"
   ]
  },
  {
   "cell_type": "code",
   "execution_count": null,
   "metadata": {},
   "outputs": [],
   "source": [
    "num_features = lookback = 5\n",
    "lookforward = 1 \n",
    "num_classes = 2 \n",
    "num_epochs = 200\n",
    "timeframe = 60  \n",
    "ticker = \"btcusd\"\n",
    "start_train_date = datetime(2017, 6, 1)\n",
    "end_train_date = datetime(2017, 7, 1)\n",
    "end_test_date = datetime(2017, 7, 6)\n",
    "model = prepare_model()"
   ]
  },
  {
   "cell_type": "code",
   "execution_count": null,
   "metadata": {},
   "outputs": [],
   "source": [
    "alg = TNG(end_train_date, end_test_date)  # Creating an instance of TNG class\n",
    "alg.addInstrument(ticker)  # Adding an instrument\n",
    "alg.addTimeframe(ticker, timeframe)  # Adding a time frame.\n",
    "alg.run_backtest(onBar)  # Backtesting..."
   ]
  },
  {
   "cell_type": "code",
   "execution_count": null,
   "metadata": {},
   "outputs": [],
   "source": [
    "stat = bs.BacktestStatistics(alg)  # Retrieving statistics of the backtest\n",
    "pnl = stat.calculate_PnL()  # Retrieving the PnL.\n",
    "num_positions = stat.calculate_number_of_trades()  # Retrieving the number of trades done.\n",
    "print(\"pnl=%f, num_positions=%d\" % (pnl, num_positions))\n",
    "stat.backtest_results()  # Displaying the backtest statistics"
   ]
  }
 ],
 "metadata": {
  "kernelspec": {
   "display_name": "Python 3",
   "language": "python",
   "name": "python3"
  },
  "language_info": {
   "codemirror_mode": {
    "name": "ipython",
    "version": 3
   },
   "file_extension": ".py",
   "mimetype": "text/x-python",
   "name": "python",
   "nbconvert_exporter": "python",
   "pygments_lexer": "ipython3",
   "version": "3.6.4"
  }
 },
 "nbformat": 4,
 "nbformat_minor": 2
}
